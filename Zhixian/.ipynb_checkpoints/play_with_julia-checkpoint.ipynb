{
 "cells": [
  {
   "cell_type": "code",
   "execution_count": 7,
   "metadata": {},
   "outputs": [],
   "source": [
    "using SparseArrays;"
   ]
  },
  {
   "cell_type": "code",
   "execution_count": 15,
   "metadata": {},
   "outputs": [],
   "source": [
    "using LinearAlgebra;"
   ]
  },
  {
   "cell_type": "code",
   "execution_count": 26,
   "metadata": {},
   "outputs": [],
   "source": [
    "using Random, Statistics;"
   ]
  },
  {
   "cell_type": "code",
   "execution_count": 34,
   "metadata": {},
   "outputs": [
    {
     "name": "stdout",
     "output_type": "stream",
     "text": [
      "\u001b[32m\u001b[1m  Updating\u001b[22m\u001b[39m registry at `C:\\Users\\boaz\\.julia\\registries\\General`\n",
      "\u001b[32m\u001b[1m  Updating\u001b[22m\u001b[39m git-repo `https://github.com/JuliaRegistries/General.git`\n",
      "\u001b[2K\u001b[?25h\u001b[32m\u001b[1m Resolving\u001b[22m\u001b[39m package versions...\n",
      "\u001b[32m\u001b[1m Installed\u001b[22m\u001b[39m StatsFuns ────────── v0.8.0\n",
      "\u001b[32m\u001b[1m Installed\u001b[22m\u001b[39m PlotUtils ────────── v0.5.8\n",
      "\u001b[32m\u001b[1m Installed\u001b[22m\u001b[39m Tokenize ─────────── v0.5.3\n",
      "\u001b[32m\u001b[1m Installed\u001b[22m\u001b[39m OrderedCollections ─ v1.1.0\n",
      "\u001b[32m\u001b[1m Installed\u001b[22m\u001b[39m CSTParser ────────── v0.5.2\n",
      "\u001b[32m\u001b[1m Installed\u001b[22m\u001b[39m PyCall ───────────── v1.91.2\n",
      "\u001b[32m\u001b[1m Installed\u001b[22m\u001b[39m MacroTools ───────── v0.5.0\n",
      "\u001b[32m\u001b[1m Installed\u001b[22m\u001b[39m Distributions ────── v0.19.2\n",
      "\u001b[32m\u001b[1m Installed\u001b[22m\u001b[39m QuadGK ───────────── v2.0.3\n",
      "\u001b[32m\u001b[1m Installed\u001b[22m\u001b[39m CodeTracking ─────── v0.5.7\n",
      "\u001b[32m\u001b[1m Installed\u001b[22m\u001b[39m PDMats ───────────── v0.9.7\n",
      "\u001b[32m\u001b[1m Installed\u001b[22m\u001b[39m LoweredCodeUtils ─── v0.3.4\n",
      "\u001b[32m\u001b[1m Installed\u001b[22m\u001b[39m Arpack ───────────── v0.3.0\n",
      "\u001b[32m\u001b[1m Installed\u001b[22m\u001b[39m Rmath ────────────── v0.5.0\n",
      "\u001b[32m\u001b[1m Installed\u001b[22m\u001b[39m StatsBase ────────── v0.30.0\n",
      "\u001b[32m\u001b[1m  Updating\u001b[22m\u001b[39m `C:\\Users\\boaz\\.julia\\environments\\v1.1\\Project.toml`\n",
      " \u001b[90m [31c24e10]\u001b[39m\u001b[92m + Distributions v0.19.2\u001b[39m\n",
      "\u001b[32m\u001b[1m  Updating\u001b[22m\u001b[39m `C:\\Users\\boaz\\.julia\\environments\\v1.1\\Manifest.toml`\n",
      " \u001b[90m [7d9fca2a]\u001b[39m\u001b[92m + Arpack v0.3.0\u001b[39m\n",
      " \u001b[90m [00ebfdb7]\u001b[39m\u001b[92m + CSTParser v0.5.2\u001b[39m\n",
      " \u001b[90m [da1fd8a2]\u001b[39m\u001b[93m ↑ CodeTracking v0.5.0 ⇒ v0.5.7\u001b[39m\n",
      " \u001b[90m [31c24e10]\u001b[39m\u001b[92m + Distributions v0.19.2\u001b[39m\n",
      " \u001b[90m [6f1432cf]\u001b[39m\u001b[93m ↑ LoweredCodeUtils v0.3.0 ⇒ v0.3.4\u001b[39m\n",
      " \u001b[90m [1914dd2f]\u001b[39m\u001b[93m ↑ MacroTools v0.4.5 ⇒ v0.5.0\u001b[39m\n",
      " \u001b[90m [bac558e1]\u001b[39m\u001b[93m ↑ OrderedCollections v1.0.2 ⇒ v1.1.0\u001b[39m\n",
      " \u001b[90m [90014a1f]\u001b[39m\u001b[92m + PDMats v0.9.7\u001b[39m\n",
      " \u001b[90m [995b91a9]\u001b[39m\u001b[93m ↑ PlotUtils v0.5.5 ⇒ v0.5.8\u001b[39m\n",
      " \u001b[90m [438e738f]\u001b[39m\u001b[93m ↑ PyCall v1.91.1 ⇒ v1.91.2\u001b[39m\n",
      " \u001b[90m [1fd47b50]\u001b[39m\u001b[92m + QuadGK v2.0.3\u001b[39m\n",
      " \u001b[90m [79098fc4]\u001b[39m\u001b[92m + Rmath v0.5.0\u001b[39m\n",
      " \u001b[90m [2913bbd2]\u001b[39m\u001b[93m ↑ StatsBase v0.29.0 ⇒ v0.30.0\u001b[39m\n",
      " \u001b[90m [4c63d2b9]\u001b[39m\u001b[92m + StatsFuns v0.8.0\u001b[39m\n",
      " \u001b[90m [0796e94c]\u001b[39m\u001b[92m + Tokenize v0.5.3\u001b[39m\n",
      " \u001b[90m [4607b0f0]\u001b[39m\u001b[92m + SuiteSparse \u001b[39m\n",
      "\u001b[32m\u001b[1m  Building\u001b[22m\u001b[39m PyCall → `C:\\Users\\boaz\\.julia\\packages\\PyCall\\ttONZ\\deps\\build.log`\n",
      "\u001b[32m\u001b[1m  Building\u001b[22m\u001b[39m Arpack → `C:\\Users\\boaz\\.julia\\packages\\Arpack\\UiiMc\\deps\\build.log`\n",
      "\u001b[32m\u001b[1m  Building\u001b[22m\u001b[39m Rmath ─→ `C:\\Users\\boaz\\.julia\\packages\\Rmath\\Py9gH\\deps\\build.log`\n"
     ]
    }
   ],
   "source": [
    "using Pkg; Pkg.add(\"Distributions\");"
   ]
  },
  {
   "cell_type": "code",
   "execution_count": 35,
   "metadata": {},
   "outputs": [
    {
     "name": "stderr",
     "output_type": "stream",
     "text": [
      "┌ Info: Precompiling Distributions [31c24e10-a181-5473-b8eb-7969acd0382f]\n",
      "└ @ Base loading.jl:1186\n"
     ]
    }
   ],
   "source": [
    "using Distributions;"
   ]
  },
  {
   "cell_type": "code",
   "execution_count": 36,
   "metadata": {},
   "outputs": [],
   "source": [
    "A = sprandn(2000,2000,0.1); # random sparse matrix - probability 0.9 is equal to 0, probability 0.1 is equal to normal. Add Bernoulli(q) as last argument to make it Bernoulli instead\n",
    "B = sprandn(2000,2000,0.1);"
   ]
  },
  {
   "cell_type": "code",
   "execution_count": 37,
   "metadata": {},
   "outputs": [
    {
     "data": {
      "text/plain": [
       "-701.9156754761045"
      ]
     },
     "execution_count": 37,
     "metadata": {},
     "output_type": "execute_result"
    }
   ],
   "source": [
    "tr(A^3)"
   ]
  },
  {
   "cell_type": "code",
   "execution_count": 38,
   "metadata": {},
   "outputs": [
    {
     "data": {
      "text/plain": [
       "2000×2000 SparseMatrixCSC{Float64,Int64} with 40547 stored entries:\n",
       "  [37  ,    1]  =  0.0226733\n",
       "  [54  ,    1]  =  0.0875035\n",
       "  [473 ,    1]  =  2.19632\n",
       "  [499 ,    1]  =  0.0154037\n",
       "  [511 ,    1]  =  -3.92497\n",
       "  [719 ,    1]  =  -0.0528755\n",
       "  [727 ,    1]  =  0.692586\n",
       "  [797 ,    1]  =  0.889513\n",
       "  [860 ,    1]  =  -0.19063\n",
       "  [881 ,    1]  =  -0.349473\n",
       "  [885 ,    1]  =  0.238431\n",
       "  [1075,    1]  =  -0.309648\n",
       "  ⋮\n",
       "  [1461, 2000]  =  1.40501\n",
       "  [1545, 2000]  =  -0.137587\n",
       "  [1602, 2000]  =  -0.129247\n",
       "  [1647, 2000]  =  -0.102702\n",
       "  [1723, 2000]  =  -0.130959\n",
       "  [1747, 2000]  =  0.00625116\n",
       "  [1750, 2000]  =  -0.0924573\n",
       "  [1777, 2000]  =  -0.131727\n",
       "  [1794, 2000]  =  0.812656\n",
       "  [1847, 2000]  =  0.769358\n",
       "  [1882, 2000]  =  1.36723\n",
       "  [1962, 2000]  =  -0.0178596"
      ]
     },
     "execution_count": 38,
     "metadata": {},
     "output_type": "execute_result"
    }
   ],
   "source": [
    "C = A.* B"
   ]
  },
  {
   "cell_type": "code",
   "execution_count": 50,
   "metadata": {},
   "outputs": [
    {
     "data": {
      "text/plain": [
       "95.60456541529281"
      ]
     },
     "execution_count": 50,
     "metadata": {},
     "output_type": "execute_result"
    }
   ],
   "source": [
    "tr(C^3)"
   ]
  },
  {
   "cell_type": "code",
   "execution_count": 59,
   "metadata": {},
   "outputs": [
    {
     "data": {
      "text/plain": [
       "temp (generic function with 1 method)"
      ]
     },
     "execution_count": 59,
     "metadata": {},
     "output_type": "execute_result"
    }
   ],
   "source": [
    "function temp()::Int64\n",
    "    p = 0.3\n",
    "    if rand()<p \n",
    "        return 1\n",
    "    end\n",
    "    return 0\n",
    "end"
   ]
  },
  {
   "cell_type": "code",
   "execution_count": 60,
   "metadata": {},
   "outputs": [
    {
     "data": {
      "text/plain": [
       "0"
      ]
     },
     "execution_count": 60,
     "metadata": {},
     "output_type": "execute_result"
    }
   ],
   "source": [
    "temp()"
   ]
  },
  {
   "cell_type": "code",
   "execution_count": 76,
   "metadata": {},
   "outputs": [
    {
     "data": {
      "text/plain": [
       "100×100 SparseMatrixCSC{Float64,Int64} with 3002 stored entries:\n",
       "  [6  ,   1]  =  0.311297\n",
       "  [8  ,   1]  =  0.0400692\n",
       "  [10 ,   1]  =  0.00794291\n",
       "  [20 ,   1]  =  0.647775\n",
       "  [21 ,   1]  =  0.596456\n",
       "  [22 ,   1]  =  0.654305\n",
       "  [23 ,   1]  =  0.753435\n",
       "  [24 ,   1]  =  0.567086\n",
       "  [29 ,   1]  =  0.117315\n",
       "  [31 ,   1]  =  0.174139\n",
       "  [32 ,   1]  =  0.693776\n",
       "  [33 ,   1]  =  0.04721\n",
       "  ⋮\n",
       "  [68 , 100]  =  0.959067\n",
       "  [69 , 100]  =  0.556555\n",
       "  [74 , 100]  =  0.0188342\n",
       "  [75 , 100]  =  0.207728\n",
       "  [77 , 100]  =  0.950833\n",
       "  [84 , 100]  =  0.649584\n",
       "  [89 , 100]  =  0.266357\n",
       "  [91 , 100]  =  0.816436\n",
       "  [92 , 100]  =  0.635722\n",
       "  [93 , 100]  =  0.879996\n",
       "  [95 , 100]  =  0.887685\n",
       "  [100, 100]  =  0.44631"
      ]
     },
     "execution_count": 76,
     "metadata": {},
     "output_type": "execute_result"
    }
   ],
   "source": [
    "A = sprand(100,100,0.3)"
   ]
  },
  {
   "cell_type": "code",
   "execution_count": 75,
   "metadata": {},
   "outputs": [
    {
     "data": {
      "text/plain": [
       "f (generic function with 1 method)"
      ]
     },
     "execution_count": 75,
     "metadata": {},
     "output_type": "execute_result"
    }
   ],
   "source": [
    "function f(x)\n",
    "    if x>0 return 1\n",
    "    end\n",
    "    return 0\n",
    "end"
   ]
  },
  {
   "cell_type": "code",
   "execution_count": 78,
   "metadata": {},
   "outputs": [
    {
     "data": {
      "text/plain": [
       "100×100 SparseMatrixCSC{Int64,Int64} with 3002 stored entries:\n",
       "  [6  ,   1]  =  1\n",
       "  [8  ,   1]  =  1\n",
       "  [10 ,   1]  =  1\n",
       "  [20 ,   1]  =  1\n",
       "  [21 ,   1]  =  1\n",
       "  [22 ,   1]  =  1\n",
       "  [23 ,   1]  =  1\n",
       "  [24 ,   1]  =  1\n",
       "  [29 ,   1]  =  1\n",
       "  [31 ,   1]  =  1\n",
       "  [32 ,   1]  =  1\n",
       "  [33 ,   1]  =  1\n",
       "  ⋮\n",
       "  [68 , 100]  =  1\n",
       "  [69 , 100]  =  1\n",
       "  [74 , 100]  =  1\n",
       "  [75 , 100]  =  1\n",
       "  [77 , 100]  =  1\n",
       "  [84 , 100]  =  1\n",
       "  [89 , 100]  =  1\n",
       "  [91 , 100]  =  1\n",
       "  [92 , 100]  =  1\n",
       "  [93 , 100]  =  1\n",
       "  [95 , 100]  =  1\n",
       "  [100, 100]  =  1"
      ]
     },
     "execution_count": 78,
     "metadata": {},
     "output_type": "execute_result"
    }
   ],
   "source": [
    "f.(A)"
   ]
  },
  {
   "cell_type": "code",
   "execution_count": 68,
   "metadata": {},
   "outputs": [
    {
     "data": {
      "text/plain": [
       "avgtriangles (generic function with 1 method)"
      ]
     },
     "execution_count": 68,
     "metadata": {},
     "output_type": "execute_result"
    }
   ],
   "source": [
    "# return average number of triangles in G(n,p) - average by taking k times\n",
    "function avgtriangles(n,p,k) \n",
    "    sum = 0\n",
    "    for i in 1:k\n",
    "        A = sprand(n,n,p)\n",
    "        sum += tr(A^3)\n",
    "    end\n",
    "    return sum/k\n",
    "end"
   ]
  },
  {
   "cell_type": "code",
   "execution_count": 72,
   "metadata": {},
   "outputs": [
    {
     "data": {
      "text/plain": [
       "3.37658712301165e6"
      ]
     },
     "execution_count": 72,
     "metadata": {},
     "output_type": "execute_result"
    }
   ],
   "source": [
    "avgtriangles(1000,0.3,100)"
   ]
  },
  {
   "cell_type": "code",
   "execution_count": null,
   "metadata": {},
   "outputs": [],
   "source": []
  }
 ],
 "metadata": {
  "kernelspec": {
   "display_name": "Julia 1.1.0",
   "language": "julia",
   "name": "julia-1.1"
  },
  "language_info": {
   "file_extension": ".jl",
   "mimetype": "application/julia",
   "name": "julia",
   "version": "1.1.0"
  }
 },
 "nbformat": 4,
 "nbformat_minor": 2
}
