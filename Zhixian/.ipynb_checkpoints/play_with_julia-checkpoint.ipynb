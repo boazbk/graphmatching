{
 "cells": [
  {
   "cell_type": "code",
   "execution_count": 7,
   "metadata": {},
   "outputs": [],
   "source": [
    "using SparseArrays;"
   ]
  },
  {
   "cell_type": "code",
   "execution_count": 15,
   "metadata": {},
   "outputs": [],
   "source": [
    "using LinearAlgebra;"
   ]
  },
  {
   "cell_type": "code",
   "execution_count": 16,
   "metadata": {},
   "outputs": [],
   "source": [
    "using Random, Statistics;"
   ]
  },
  {
   "cell_type": "code",
   "execution_count": 13,
   "metadata": {},
   "outputs": [
    {
     "data": {
      "text/plain": [
       "2000×2000 SparseMatrixCSC{Float64,Int64} with 399896 stored entries:\n",
       "  [2   ,    1]  =  0.428288\n",
       "  [3   ,    1]  =  -1.48618\n",
       "  [7   ,    1]  =  -0.57985\n",
       "  [9   ,    1]  =  -0.875793\n",
       "  [18  ,    1]  =  -1.02217\n",
       "  [22  ,    1]  =  0.135861\n",
       "  [46  ,    1]  =  0.40555\n",
       "  [61  ,    1]  =  -0.281333\n",
       "  [64  ,    1]  =  -0.0549001\n",
       "  [74  ,    1]  =  -1.11884\n",
       "  [76  ,    1]  =  -0.465084\n",
       "  [83  ,    1]  =  -1.0553\n",
       "  ⋮\n",
       "  [1863, 2000]  =  -0.606706\n",
       "  [1865, 2000]  =  0.170586\n",
       "  [1893, 2000]  =  -0.34071\n",
       "  [1897, 2000]  =  0.267468\n",
       "  [1898, 2000]  =  0.437872\n",
       "  [1910, 2000]  =  -0.363343\n",
       "  [1929, 2000]  =  0.0291058\n",
       "  [1956, 2000]  =  -0.759469\n",
       "  [1961, 2000]  =  -0.588128\n",
       "  [1966, 2000]  =  -0.996182\n",
       "  [1969, 2000]  =  -0.410844\n",
       "  [1984, 2000]  =  2.0613e-5"
      ]
     },
     "execution_count": 13,
     "metadata": {},
     "output_type": "execute_result"
    }
   ],
   "source": [
    "A = sprandn(2000,2000,0.1)"
   ]
  },
  {
   "cell_type": "code",
   "execution_count": 14,
   "metadata": {},
   "outputs": [
    {
     "data": {
      "text/plain": [
       "3495.793451990006"
      ]
     },
     "execution_count": 14,
     "metadata": {},
     "output_type": "execute_result"
    }
   ],
   "source": [
    "tr(A^3)"
   ]
  },
  {
   "cell_type": "code",
   "execution_count": null,
   "metadata": {},
   "outputs": [],
   "source": []
  }
 ],
 "metadata": {
  "kernelspec": {
   "display_name": "Julia 1.1.0",
   "language": "julia",
   "name": "julia-1.1"
  },
  "language_info": {
   "file_extension": ".jl",
   "mimetype": "application/julia",
   "name": "julia",
   "version": "1.1.0"
  }
 },
 "nbformat": 4,
 "nbformat_minor": 2
}
